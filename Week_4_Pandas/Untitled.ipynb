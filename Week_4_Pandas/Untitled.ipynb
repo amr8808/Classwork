{
 "cells": [
  {
   "cell_type": "code",
   "execution_count": 2,
   "id": "f6a54911-c5b2-43e3-85df-12a549dd9075",
   "metadata": {},
   "outputs": [],
   "source": [
    "num=[-100,2,42,100]"
   ]
  },
  {
   "cell_type": "code",
   "execution_count": 5,
   "id": "e10688cc-5295-4509-9367-2c03345736a8",
   "metadata": {},
   "outputs": [],
   "source": [
    "def hiprod(numbers):\n",
    "    numbers.sort()\n",
    "    hiprods=(numbers[-1])*(numbers[-2])\n",
    "    print(f'The Highest Product is: {hiprods}')"
   ]
  },
  {
   "cell_type": "code",
   "execution_count": 6,
   "id": "7f7990da-556d-4752-8404-8a76fed6a2ed",
   "metadata": {},
   "outputs": [
    {
     "name": "stdout",
     "output_type": "stream",
     "text": [
      "The Highest Product is: 4200\n"
     ]
    }
   ],
   "source": [
    "hiprod(num)"
   ]
  },
  {
   "cell_type": "code",
   "execution_count": 44,
   "id": "8ee9cb98-c78f-41bb-9bba-6e9947a4b817",
   "metadata": {},
   "outputs": [],
   "source": [
    "def piglatinize(string):\n",
    "    word2=string.split()\n",
    "    piglist=[]\n",
    "    s=' '\n",
    "    for word in word2:\n",
    "        pigword=word[1:]+word[0]+'ay'\n",
    "        piglist.append(pigword)\n",
    "        pigstring=s.join(piglist)\n",
    "    print(pigstring)"
   ]
  },
  {
   "cell_type": "code",
   "execution_count": 45,
   "id": "651c6de9-3cc5-458c-a940-dcbedb4700b3",
   "metadata": {},
   "outputs": [
    {
     "name": "stdout",
     "output_type": "stream",
     "text": [
      "Iay eallyray ovelay awgspay\n"
     ]
    }
   ],
   "source": [
    "piglatinize('I really love pawgs')"
   ]
  },
  {
   "cell_type": "code",
   "execution_count": null,
   "id": "1b487bd2-56d5-4d1d-b3bb-69353729d8f0",
   "metadata": {},
   "outputs": [],
   "source": []
  },
  {
   "cell_type": "code",
   "execution_count": null,
   "id": "05e47f85-97d3-408a-8525-e5e8883136d1",
   "metadata": {},
   "outputs": [],
   "source": []
  }
 ],
 "metadata": {
  "kernelspec": {
   "display_name": "Python 3",
   "language": "python",
   "name": "python3"
  },
  "language_info": {
   "codemirror_mode": {
    "name": "ipython",
    "version": 3
   },
   "file_extension": ".py",
   "mimetype": "text/x-python",
   "name": "python",
   "nbconvert_exporter": "python",
   "pygments_lexer": "ipython3",
   "version": "3.7.10"
  }
 },
 "nbformat": 4,
 "nbformat_minor": 5
}
