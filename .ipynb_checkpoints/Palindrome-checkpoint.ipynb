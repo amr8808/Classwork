{
 "cells": [
  {
   "cell_type": "markdown",
   "id": "9fa00a40-f60c-4889-9f80-840d1ea0cde8",
   "metadata": {},
   "source": [
    "# Palindrome Number\n",
    "\n",
    "- Given an integer x, return true if x is palindrome integer.\n",
    "\n",
    "- An integer is a palindrome when it reads the same backward as forward. For example, 121 is palindrome while 123 is not.\n",
    "\n",
    "```\n",
    "Input: x = 121\n",
    "Output: true\n",
    "```\n",
    "\n",
    "```\n",
    "Input: x = -121\n",
    "Output: false\n",
    "Explanation: From left to right, it reads -121. From right to left, it becomes 121-. Therefore it is not a palindrome.\n",
    "```\n",
    "\n",
    "```\n",
    "Input: x = 10\n",
    "Output: false\n",
    "Explanation: Reads 01 from right to left. Therefore it is not a palindrome.\n",
    "```\n",
    "```\n",
    "Input: x = -101\n",
    "Output: false\n",
    "```"
   ]
  },
  {
   "cell_type": "code",
   "execution_count": 5,
   "id": "a7978fdd-8cb0-4786-9184-bc2947a2ac66",
   "metadata": {},
   "outputs": [],
   "source": [
    "def ispalindrome(x):\n",
    "    temp=x\n",
    "    rev=0\n",
    "    while(x>0):\n",
    "        dig=x%10\n",
    "        rev=rev*10+dig\n",
    "        x=x//10\n",
    "    if(temp==rev):\n",
    "        print(\"True\")\n",
    "    else:\n",
    "        print(\"False\")"
   ]
  },
  {
   "cell_type": "code",
   "execution_count": 13,
   "id": "c956200c-449c-4424-9eb3-2e7f6f63f3aa",
   "metadata": {},
   "outputs": [
    {
     "name": "stdout",
     "output_type": "stream",
     "text": [
      "False\n"
     ]
    }
   ],
   "source": [
    "ispalindrome(-101)"
   ]
  },
  {
   "cell_type": "code",
   "execution_count": null,
   "id": "ff861508-ae7f-47ef-9c94-05f7a9e52811",
   "metadata": {},
   "outputs": [],
   "source": [
    "if string[::-1] == string:\n",
    "    print('True')\n",
    "else:\n",
    "    print('False')"
   ]
  },
  {
   "cell_type": "code",
   "execution_count": 14,
   "id": "834207a8-2fe3-4836-b238-0ae75bb3636a",
   "metadata": {},
   "outputs": [],
   "source": [
    "def palindrome(x):\n",
    "    y=str(x)\n",
    "    if y[::-1] == y:\n",
    "        print('True')\n",
    "    else:\n",
    "        print('False')"
   ]
  },
  {
   "cell_type": "code",
   "execution_count": 15,
   "id": "794c50f6-d1aa-4f26-b3b5-e878d3c359f3",
   "metadata": {},
   "outputs": [
    {
     "name": "stdout",
     "output_type": "stream",
     "text": [
      "True\n"
     ]
    }
   ],
   "source": [
    "palindrome(121)"
   ]
  },
  {
   "cell_type": "code",
   "execution_count": 16,
   "id": "b5ed4f0e-1b36-43ee-b389-50e48094e2d3",
   "metadata": {},
   "outputs": [
    {
     "name": "stdout",
     "output_type": "stream",
     "text": [
      "False\n"
     ]
    }
   ],
   "source": [
    "palindrome(-121)"
   ]
  },
  {
   "cell_type": "code",
   "execution_count": 19,
   "id": "4a5eb2f9-7a4c-4914-8a79-17258f33a6f5",
   "metadata": {},
   "outputs": [
    {
     "name": "stdout",
     "output_type": "stream",
     "text": [
      "False\n"
     ]
    }
   ],
   "source": [
    "palindrome(-2349432)"
   ]
  },
  {
   "cell_type": "code",
   "execution_count": null,
   "id": "85dcf726-6950-4fa4-b08f-a46599cbf7f6",
   "metadata": {},
   "outputs": [],
   "source": []
  }
 ],
 "metadata": {
  "kernelspec": {
   "display_name": "Python 3",
   "language": "python",
   "name": "python3"
  },
  "language_info": {
   "codemirror_mode": {
    "name": "ipython",
    "version": 3
   },
   "file_extension": ".py",
   "mimetype": "text/x-python",
   "name": "python",
   "nbconvert_exporter": "python",
   "pygments_lexer": "ipython3",
   "version": "3.7.10"
  }
 },
 "nbformat": 4,
 "nbformat_minor": 5
}
