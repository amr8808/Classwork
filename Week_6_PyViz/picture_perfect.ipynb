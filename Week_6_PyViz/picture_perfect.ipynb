{
 "cells": [
  {
   "cell_type": "markdown",
   "metadata": {},
   "source": [
    "# Picture Perfect"
   ]
  },
  {
   "cell_type": "markdown",
   "metadata": {},
   "source": [
    "Perfect your visualizations by adding in some finishing touches. Use the hvPlot options and customization attributes to change the look and feel of each visualization, paying particular attention to the legibility of axis labels and the availability of titles and labels."
   ]
  },
  {
   "cell_type": "code",
   "execution_count": 2,
   "metadata": {},
   "outputs": [],
   "source": [
    "import pandas as pd\n",
    "import hvplot.pandas\n",
    "from pathlib import Path"
   ]
  },
  {
   "cell_type": "markdown",
   "metadata": {},
   "source": [
    "### Prep the data"
   ]
  },
  {
   "cell_type": "code",
   "execution_count": 4,
   "metadata": {},
   "outputs": [
    {
     "data": {
      "text/html": [
       "<div>\n",
       "<style scoped>\n",
       "    .dataframe tbody tr th:only-of-type {\n",
       "        vertical-align: middle;\n",
       "    }\n",
       "\n",
       "    .dataframe tbody tr th {\n",
       "        vertical-align: top;\n",
       "    }\n",
       "\n",
       "    .dataframe thead th {\n",
       "        text-align: right;\n",
       "    }\n",
       "</style>\n",
       "<table border=\"1\" class=\"dataframe\">\n",
       "  <thead>\n",
       "    <tr style=\"text-align: right;\">\n",
       "      <th></th>\n",
       "      <th>Total Active Loans</th>\n",
       "      <th>Total Average Loan Amount</th>\n",
       "      <th>2015 - 2016</th>\n",
       "      <th>2010 - 2014</th>\n",
       "      <th>Self Help Loan</th>\n",
       "      <th>Leveraged Loan</th>\n",
       "    </tr>\n",
       "    <tr>\n",
       "      <th>State Code</th>\n",
       "      <th></th>\n",
       "      <th></th>\n",
       "      <th></th>\n",
       "      <th></th>\n",
       "      <th></th>\n",
       "      <th></th>\n",
       "    </tr>\n",
       "  </thead>\n",
       "  <tbody>\n",
       "    <tr>\n",
       "      <th>AK</th>\n",
       "      <td>897</td>\n",
       "      <td>148811.39</td>\n",
       "      <td>189583.49</td>\n",
       "      <td>172371.39</td>\n",
       "      <td>96</td>\n",
       "      <td>450</td>\n",
       "    </tr>\n",
       "    <tr>\n",
       "      <th>AL</th>\n",
       "      <td>7455</td>\n",
       "      <td>435054.53</td>\n",
       "      <td>686066.79</td>\n",
       "      <td>648663.44</td>\n",
       "      <td>18</td>\n",
       "      <td>605</td>\n",
       "    </tr>\n",
       "    <tr>\n",
       "      <th>AR</th>\n",
       "      <td>6186</td>\n",
       "      <td>263212.27</td>\n",
       "      <td>355445.70</td>\n",
       "      <td>351562.42</td>\n",
       "      <td>861</td>\n",
       "      <td>567</td>\n",
       "    </tr>\n",
       "    <tr>\n",
       "      <th>AZ</th>\n",
       "      <td>3982</td>\n",
       "      <td>597591.94</td>\n",
       "      <td>507532.91</td>\n",
       "      <td>599688.64</td>\n",
       "      <td>1718</td>\n",
       "      <td>1057</td>\n",
       "    </tr>\n",
       "    <tr>\n",
       "      <th>CA</th>\n",
       "      <td>8875</td>\n",
       "      <td>2805653.85</td>\n",
       "      <td>3008866.40</td>\n",
       "      <td>2881741.23</td>\n",
       "      <td>4134</td>\n",
       "      <td>2231</td>\n",
       "    </tr>\n",
       "  </tbody>\n",
       "</table>\n",
       "</div>"
      ],
      "text/plain": [
       "            Total Active Loans  Total Average Loan Amount  2015 - 2016  \\\n",
       "State Code                                                               \n",
       "AK                         897                  148811.39    189583.49   \n",
       "AL                        7455                  435054.53    686066.79   \n",
       "AR                        6186                  263212.27    355445.70   \n",
       "AZ                        3982                  597591.94    507532.91   \n",
       "CA                        8875                 2805653.85   3008866.40   \n",
       "\n",
       "            2010 - 2014  Self Help Loan  Leveraged Loan  \n",
       "State Code                                               \n",
       "AK            172371.39              96             450  \n",
       "AL            648663.44              18             605  \n",
       "AR            351562.42             861             567  \n",
       "AZ            599688.64            1718            1057  \n",
       "CA           2881741.23            4134            2231  "
      ]
     },
     "execution_count": 4,
     "metadata": {},
     "output_type": "execute_result"
    }
   ],
   "source": [
    "# Read in loan data\n",
    "loan_data = pd.read_csv(Path(\"state_loan_data.csv\"))\n",
    "\n",
    "# Group data by state for state-level analysis\n",
    "loan_data = loan_data.groupby('State Code').sum()\n",
    "loan_data.head()"
   ]
  },
  {
   "cell_type": "markdown",
   "metadata": {},
   "source": [
    "### Rotate x axis labels and format y axis values using yformatter"
   ]
  },
  {
   "cell_type": "code",
   "execution_count": 9,
   "metadata": {},
   "outputs": [
    {
     "data": {},
     "metadata": {},
     "output_type": "display_data"
    },
    {
     "data": {
      "application/vnd.holoviews_exec.v0+json": "",
      "text/html": [
       "<div id='1957'>\n",
       "\n",
       "\n",
       "\n",
       "\n",
       "\n",
       "  <div class=\"bk-root\" id=\"bf102ef0-31a7-4b4e-9701-846e7ff5bbc6\" data-root-id=\"1957\"></div>\n",
       "</div>\n",
       "<script type=\"application/javascript\">(function(root) {\n",
       "  function embed_document(root) {\n",
       "    var docs_json = {\"bea3bb3b-4b1c-4c33-aec9-5e30c319af3b\":{\"defs\":[{\"extends\":null,\"module\":null,\"name\":\"ReactiveHTML1\",\"overrides\":[],\"properties\":[]},{\"extends\":null,\"module\":null,\"name\":\"FlexBox1\",\"overrides\":[],\"properties\":[{\"default\":\"flex-start\",\"kind\":null,\"name\":\"align_content\"},{\"default\":\"flex-start\",\"kind\":null,\"name\":\"align_items\"},{\"default\":\"row\",\"kind\":null,\"name\":\"flex_direction\"},{\"default\":\"wrap\",\"kind\":null,\"name\":\"flex_wrap\"},{\"default\":\"flex-start\",\"kind\":null,\"name\":\"justify_content\"}]},{\"extends\":null,\"module\":null,\"name\":\"TemplateActions1\",\"overrides\":[],\"properties\":[{\"default\":0,\"kind\":null,\"name\":\"open_modal\"},{\"default\":0,\"kind\":null,\"name\":\"close_modal\"}]},{\"extends\":null,\"module\":null,\"name\":\"MaterialTemplateActions1\",\"overrides\":[],\"properties\":[{\"default\":0,\"kind\":null,\"name\":\"open_modal\"},{\"default\":0,\"kind\":null,\"name\":\"close_modal\"}]}],\"roots\":{\"references\":[{\"attributes\":{},\"id\":\"1969\",\"type\":\"LinearScale\"},{\"attributes\":{},\"id\":\"1972\",\"type\":\"CategoricalTicker\"},{\"attributes\":{\"axis_label\":\"\",\"formatter\":{\"id\":\"2000\"},\"major_label_policy\":{\"id\":\"2005\"},\"ticker\":{\"id\":\"1975\"}},\"id\":\"1974\",\"type\":\"LinearAxis\"},{\"attributes\":{\"end\":3081895.235000001,\"reset_end\":3081895.235000001,\"reset_start\":0.0,\"tags\":[[[\"Total Average Loan Amount\",\"Total Average Loan Amount\",null]]]},\"id\":\"1960\",\"type\":\"Range1d\"},{\"attributes\":{\"factors\":[\"MP\",\"PR\",\"ND\",\"SD\",\"VI\",\"WY\",\"VT\",\"MT\",\"DE\",\"AK\",\"GU\",\"MS\",\"WV\",\"ID\",\"ME\",\"NM\",\"NE\",\"NH\",\"AR\",\"IA\",\"KS\",\"HI\",\"RI\",\"OK\",\"NV\",\"AL\",\"LA\",\"KY\",\"SC\",\"CT\",\"MO\",\"CO\",\"AZ\",\"UT\",\"OR\",\"TN\",\"IN\",\"WI\",\"MD\",\"MN\",\"VA\",\"IL\",\"NY\",\"GA\",\"MA\",\"MI\",\"NC\",\"NJ\",\"WA\",\"OH\",\"FL\",\"PA\",\"TX\",\"CA\"],\"tags\":[[[\"State Code\",\"State Code\",null]]]},\"id\":\"1959\",\"type\":\"FactorRange\"},{\"attributes\":{\"active_multi\":null,\"tools\":[{\"id\":\"1961\"},{\"id\":\"1978\"},{\"id\":\"1979\"},{\"id\":\"1980\"},{\"id\":\"1981\"},{\"id\":\"1982\"}]},\"id\":\"1984\",\"type\":\"Toolbar\"},{\"attributes\":{\"callback\":null,\"renderers\":[{\"id\":\"1997\"}],\"tags\":[\"hv_created\"],\"tooltips\":[[\"State Code\",\"@{State_Code}\"],[\"Total Average Loan Amount\",\"@{Total_Average_Loan_Amount}\"]]},\"id\":\"1961\",\"type\":\"HoverTool\"},{\"attributes\":{\"axis\":{\"id\":\"1974\"},\"dimension\":1,\"grid_line_color\":null,\"ticker\":null},\"id\":\"1977\",\"type\":\"Grid\"},{\"attributes\":{\"margin\":[5,5,5,5],\"name\":\"HSpacer02890\",\"sizing_mode\":\"stretch_width\"},\"id\":\"1958\",\"type\":\"Spacer\"},{\"attributes\":{\"fill_alpha\":{\"value\":0.2},\"fill_color\":{\"value\":\"#30a2da\"},\"line_alpha\":{\"value\":0.2},\"top\":{\"field\":\"Total_Average_Loan_Amount\"},\"width\":{\"value\":0.8},\"x\":{\"field\":\"State_Code\"}},\"id\":\"1996\",\"type\":\"VBar\"},{\"attributes\":{},\"id\":\"2003\",\"type\":\"CategoricalTickFormatter\"},{\"attributes\":{\"fill_alpha\":{\"value\":0.1},\"fill_color\":{\"value\":\"#30a2da\"},\"line_alpha\":{\"value\":0.1},\"top\":{\"field\":\"Total_Average_Loan_Amount\"},\"width\":{\"value\":0.8},\"x\":{\"field\":\"State_Code\"}},\"id\":\"1995\",\"type\":\"VBar\"},{\"attributes\":{},\"id\":\"2005\",\"type\":\"AllLabels\"},{\"attributes\":{\"bottom_units\":\"screen\",\"fill_alpha\":0.5,\"fill_color\":\"lightgrey\",\"left_units\":\"screen\",\"level\":\"overlay\",\"line_alpha\":1.0,\"line_color\":\"black\",\"line_dash\":[4,4],\"line_width\":2,\"right_units\":\"screen\",\"syncable\":false,\"top_units\":\"screen\"},\"id\":\"1983\",\"type\":\"BoxAnnotation\"},{\"attributes\":{\"fill_color\":{\"value\":\"#30a2da\"},\"top\":{\"field\":\"Total_Average_Loan_Amount\"},\"width\":{\"value\":0.8},\"x\":{\"field\":\"State_Code\"}},\"id\":\"1994\",\"type\":\"VBar\"},{\"attributes\":{\"data\":{\"State_Code\":[\"MP\",\"PR\",\"ND\",\"SD\",\"VI\",\"WY\",\"VT\",\"MT\",\"DE\",\"AK\",\"GU\",\"MS\",\"WV\",\"ID\",\"ME\",\"NM\",\"NE\",\"NH\",\"AR\",\"IA\",\"KS\",\"HI\",\"RI\",\"OK\",\"NV\",\"AL\",\"LA\",\"KY\",\"SC\",\"CT\",\"MO\",\"CO\",\"AZ\",\"UT\",\"OR\",\"TN\",\"IN\",\"WI\",\"MD\",\"MN\",\"VA\",\"IL\",\"NY\",\"GA\",\"MA\",\"MI\",\"NC\",\"NJ\",\"WA\",\"OH\",\"FL\",\"PA\",\"TX\",\"CA\"],\"Total_Average_Loan_Amount\":{\"__ndarray__\":\"AAAAAAAd5UAAAAAAwFTsQB+F61Hs6PJArkfhelhS9UAAAAAAUEz3QAAAAAAwJPlA7FG4HmFD+UA9CtejDLn5QFK4HoX7dABB7FG4HlsqAkEAAAAAaEMGQa5H4Xr2bQdBAAAAAAi+CEGamZmZNUkJQRSuR+FaWAlBwvUoXLdjC0HD9Shc8eQLQcL1KFw/PQ5BSOF6FLEQEEEfhetRDdwSQRSuR+E0thNBrkfhem+WFEGQwvUoPlcVQWZmZmby+RVB7FG4HoasF0HrUbgeuo0aQeF6FK5i2BxBexSuR6tbHUEzMzMzaUggQR+F61HQZiBBmZmZGceBIUH2KFwP7PkhQRWuR+GvPCJBkML1KOZQIkG4HoVrQdYiQfYoXI9MiSRBwvUoXOn3JEEAAAAAUF8lQShcj0JNKyhBw/Uo3BUSKUFI4XqUXjQpQVS4HgX9tylB4noULhp5MEHC9SjcrLUwQSlcj8J1EzFBXI/CtTRDMUGamZnZk9ExQRSuR6EWtzJBkML1KE+jM0GjcD3K+6E1QfYoXE887TdBXI/CdS94OUFPuB5FM4xDQc7MzOzKZ0VB\",\"dtype\":\"float64\",\"order\":\"little\",\"shape\":[54]}},\"selected\":{\"id\":\"1992\"},\"selection_policy\":{\"id\":\"2017\"}},\"id\":\"1991\",\"type\":\"ColumnDataSource\"},{\"attributes\":{\"below\":[{\"id\":\"1971\"}],\"center\":[{\"id\":\"1973\"},{\"id\":\"1977\"}],\"height\":300,\"left\":[{\"id\":\"1974\"}],\"margin\":[5,5,5,5],\"min_border_bottom\":10,\"min_border_left\":10,\"min_border_right\":10,\"min_border_top\":10,\"renderers\":[{\"id\":\"1997\"}],\"sizing_mode\":\"fixed\",\"title\":{\"id\":\"1963\"},\"toolbar\":{\"id\":\"1984\"},\"width\":700,\"x_range\":{\"id\":\"1959\"},\"x_scale\":{\"id\":\"1967\"},\"y_range\":{\"id\":\"1960\"},\"y_scale\":{\"id\":\"1969\"}},\"id\":\"1962\",\"subtype\":\"Figure\",\"type\":\"Plot\"},{\"attributes\":{\"children\":[{\"id\":\"1958\"},{\"id\":\"1962\"},{\"id\":\"2027\"}],\"margin\":[0,0,0,0],\"name\":\"Row02886\",\"tags\":[\"embedded\"]},\"id\":\"1957\",\"type\":\"Row\"},{\"attributes\":{\"source\":{\"id\":\"1991\"}},\"id\":\"1998\",\"type\":\"CDSView\"},{\"attributes\":{\"data_source\":{\"id\":\"1991\"},\"glyph\":{\"id\":\"1994\"},\"hover_glyph\":null,\"muted_glyph\":{\"id\":\"1996\"},\"nonselection_glyph\":{\"id\":\"1995\"},\"selection_glyph\":{\"id\":\"1999\"},\"view\":{\"id\":\"1998\"}},\"id\":\"1997\",\"type\":\"GlyphRenderer\"},{\"attributes\":{},\"id\":\"2002\",\"type\":\"AllLabels\"},{\"attributes\":{\"margin\":[5,5,5,5],\"name\":\"HSpacer02891\",\"sizing_mode\":\"stretch_width\"},\"id\":\"2027\",\"type\":\"Spacer\"},{\"attributes\":{},\"id\":\"1978\",\"type\":\"SaveTool\"},{\"attributes\":{},\"id\":\"1992\",\"type\":\"Selection\"},{\"attributes\":{},\"id\":\"1979\",\"type\":\"PanTool\"},{\"attributes\":{},\"id\":\"1982\",\"type\":\"ResetTool\"},{\"attributes\":{\"bottom\":{\"value\":0},\"fill_alpha\":{\"value\":1.0},\"fill_color\":{\"value\":\"#30a2da\"},\"hatch_alpha\":{\"value\":1.0},\"hatch_color\":{\"value\":\"black\"},\"hatch_scale\":{\"value\":12.0},\"hatch_weight\":{\"value\":1.0},\"line_alpha\":{\"value\":1.0},\"line_cap\":{\"value\":\"butt\"},\"line_color\":{\"value\":\"black\"},\"line_dash\":{\"value\":[]},\"line_dash_offset\":{\"value\":0},\"line_join\":{\"value\":\"bevel\"},\"line_width\":{\"value\":1},\"top\":{\"field\":\"Total_Average_Loan_Amount\"},\"width\":{\"value\":0.8},\"x\":{\"field\":\"State_Code\"}},\"id\":\"1999\",\"type\":\"VBar\"},{\"attributes\":{},\"id\":\"1980\",\"type\":\"WheelZoomTool\"},{\"attributes\":{},\"id\":\"1975\",\"type\":\"BasicTicker\"},{\"attributes\":{},\"id\":\"2017\",\"type\":\"UnionRenderers\"},{\"attributes\":{\"overlay\":{\"id\":\"1983\"}},\"id\":\"1981\",\"type\":\"BoxZoomTool\"},{\"attributes\":{\"axis\":{\"id\":\"1971\"},\"grid_line_color\":null,\"ticker\":null},\"id\":\"1973\",\"type\":\"Grid\"},{\"attributes\":{\"text\":\"2019 Total Average Amount\",\"text_color\":\"black\",\"text_font_size\":\"12pt\"},\"id\":\"1963\",\"type\":\"Title\"},{\"attributes\":{\"format\":\"%.0f\"},\"id\":\"2000\",\"type\":\"PrintfTickFormatter\"},{\"attributes\":{\"axis_label\":\"State Code\",\"formatter\":{\"id\":\"2003\"},\"major_label_orientation\":1.5707963267948966,\"major_label_policy\":{\"id\":\"2002\"},\"ticker\":{\"id\":\"1972\"}},\"id\":\"1971\",\"type\":\"CategoricalAxis\"},{\"attributes\":{},\"id\":\"1967\",\"type\":\"CategoricalScale\"}],\"root_ids\":[\"1957\"]},\"title\":\"Bokeh Application\",\"version\":\"2.3.2\"}};\n",
       "    var render_items = [{\"docid\":\"bea3bb3b-4b1c-4c33-aec9-5e30c319af3b\",\"root_ids\":[\"1957\"],\"roots\":{\"1957\":\"bf102ef0-31a7-4b4e-9701-846e7ff5bbc6\"}}];\n",
       "    root.Bokeh.embed.embed_items_notebook(docs_json, render_items);\n",
       "  }\n",
       "  if (root.Bokeh !== undefined && root.Bokeh.Panel !== undefined) {\n",
       "    embed_document(root);\n",
       "  } else {\n",
       "    var attempts = 0;\n",
       "    var timer = setInterval(function(root) {\n",
       "      if (root.Bokeh !== undefined && root.Bokeh.Panel !== undefined) {\n",
       "        clearInterval(timer);\n",
       "        embed_document(root);\n",
       "      } else if (document.readyState == \"complete\") {\n",
       "        attempts++;\n",
       "        if (attempts > 200) {\n",
       "          clearInterval(timer);\n",
       "          console.log(\"Bokeh: ERROR: Unable to run BokehJS code because BokehJS library is missing\");\n",
       "        }\n",
       "      }\n",
       "    }, 25, root)\n",
       "  }\n",
       "})(window);</script>"
      ],
      "text/plain": [
       ":Bars   [State Code]   (Total Average Loan Amount)"
      ]
     },
     "execution_count": 9,
     "metadata": {
      "application/vnd.holoviews_exec.v0+json": {
       "id": "1957"
      }
     },
     "output_type": "execute_result"
    }
   ],
   "source": [
    "# Slice for Total Average Loan Amount\n",
    "loan_data_state = loan_data['Total Average Loan Amount']\n",
    "loan_data_avg_grp = loan_data_state.sort_values()\n",
    "\n",
    "# Use rot and yformatter attributes/options\n",
    "plot_state_avgs = loan_data_avg_grp.hvplot.bar(label='2019 Total Average Amount', rot=90).opts(yformatter=\"%.0f\")\n",
    "plot_state_avgs"
   ]
  },
  {
   "cell_type": "code",
   "execution_count": 10,
   "metadata": {},
   "outputs": [
    {
     "data": {},
     "metadata": {},
     "output_type": "display_data"
    },
    {
     "data": {
      "application/vnd.holoviews_exec.v0+json": "",
      "text/html": [
       "<div id='2074'>\n",
       "\n",
       "\n",
       "\n",
       "\n",
       "\n",
       "  <div class=\"bk-root\" id=\"894f1cfa-157b-4155-9160-5e36412e5ca8\" data-root-id=\"2074\"></div>\n",
       "</div>\n",
       "<script type=\"application/javascript\">(function(root) {\n",
       "  function embed_document(root) {\n",
       "    var docs_json = {\"0983fc8a-04cd-4897-964e-9b76842a7298\":{\"defs\":[{\"extends\":null,\"module\":null,\"name\":\"ReactiveHTML1\",\"overrides\":[],\"properties\":[]},{\"extends\":null,\"module\":null,\"name\":\"FlexBox1\",\"overrides\":[],\"properties\":[{\"default\":\"flex-start\",\"kind\":null,\"name\":\"align_content\"},{\"default\":\"flex-start\",\"kind\":null,\"name\":\"align_items\"},{\"default\":\"row\",\"kind\":null,\"name\":\"flex_direction\"},{\"default\":\"wrap\",\"kind\":null,\"name\":\"flex_wrap\"},{\"default\":\"flex-start\",\"kind\":null,\"name\":\"justify_content\"}]},{\"extends\":null,\"module\":null,\"name\":\"TemplateActions1\",\"overrides\":[],\"properties\":[{\"default\":0,\"kind\":null,\"name\":\"open_modal\"},{\"default\":0,\"kind\":null,\"name\":\"close_modal\"}]},{\"extends\":null,\"module\":null,\"name\":\"MaterialTemplateActions1\",\"overrides\":[],\"properties\":[{\"default\":0,\"kind\":null,\"name\":\"open_modal\"},{\"default\":0,\"kind\":null,\"name\":\"close_modal\"}]}],\"roots\":{\"references\":[{\"attributes\":{},\"id\":\"2096\",\"type\":\"PanTool\"},{\"attributes\":{},\"id\":\"2099\",\"type\":\"ResetTool\"},{\"attributes\":{\"data\":{\"2010 - 2014\":{\"__ndarray__\":\"AAAAAEDF2kAAAAAAULzzQPYoXI+yuvlAAAAAACA8/EDXo3A9eh79QFK4HoUDQgBBAAAAAEhJAEEfhetRii8BQR+F61HK1gNB7FG4HpsKBUEAAAAA8M0HQexRuB6nnA5BehSuRytREEEAAAAA0JkQQRSuR+HbvxBBHoXrUQ+UEUEAAAAA4tMRQT4K16PIeRJB4XoUril1FUFnZmZmhZMVQSpcj8K/RxhBXI/C9SBjGEHhehSuMNkYQR+F61GBGxpBKVyPwqpwHEFcj8J1LjYhQfYoXA9pNSJBexSuRxFNIkHsUbiebfYiQRWuR+GuyyNBuB6FazdGJEFwPQrXCiclQVK4HoWcQCVBwvUoXDaVJUEAAACAShInQaRwPQrxaCdBZWZmZtumKEEAAAAAmD0pQSCF61Gd3ilB7FG4HsPlKUEoXI9C7tErQa1H4bqQkjFBZ2ZmZq+ZMUFxPQoXCE8yQWdmZiaJWDJBC9ej8HJLNEE+CtfjgGY0QRWuR2FODzZBZmZmZoAGN0GQwvWoFhA3QRWuRyGWpD1BAAAAwKYZP0HXo3CdZvxFQYXrUThmdUhB\",\"dtype\":\"float64\",\"order\":\"little\",\"shape\":[54]},\"A_2010_hyphen_minus_2014\":{\"__ndarray__\":\"AAAAAEDF2kAAAAAAULzzQPYoXI+yuvlAAAAAACA8/EDXo3A9eh79QFK4HoUDQgBBAAAAAEhJAEEfhetRii8BQR+F61HK1gNB7FG4HpsKBUEAAAAA8M0HQexRuB6nnA5BehSuRytREEEAAAAA0JkQQRSuR+HbvxBBHoXrUQ+UEUEAAAAA4tMRQT4K16PIeRJB4XoUril1FUFnZmZmhZMVQSpcj8K/RxhBXI/C9SBjGEHhehSuMNkYQR+F61GBGxpBKVyPwqpwHEFcj8J1LjYhQfYoXA9pNSJBexSuRxFNIkHsUbiebfYiQRWuR+GuyyNBuB6FazdGJEFwPQrXCiclQVK4HoWcQCVBwvUoXDaVJUEAAACAShInQaRwPQrxaCdBZWZmZtumKEEAAAAAmD0pQSCF61Gd3ilB7FG4HsPlKUEoXI9C7tErQa1H4bqQkjFBZ2ZmZq+ZMUFxPQoXCE8yQWdmZiaJWDJBC9ej8HJLNEE+CtfjgGY0QRWuR2FODzZBZmZmZoAGN0GQwvWoFhA3QRWuRyGWpD1BAAAAwKYZP0HXo3CdZvxFQYXrUThmdUhB\",\"dtype\":\"float64\",\"order\":\"little\",\"shape\":[54]},\"State Code\":[\"MP\",\"PR\",\"SD\",\"VI\",\"ND\",\"VT\",\"WY\",\"MT\",\"DE\",\"AK\",\"GU\",\"ID\",\"NE\",\"WV\",\"ME\",\"NH\",\"MS\",\"NM\",\"AR\",\"IA\",\"NV\",\"RI\",\"KS\",\"HI\",\"OK\",\"MO\",\"KY\",\"AZ\",\"MN\",\"AL\",\"UT\",\"LA\",\"CT\",\"CO\",\"SC\",\"OR\",\"IN\",\"WI\",\"MD\",\"IL\",\"TN\",\"GA\",\"MI\",\"VA\",\"NY\",\"NJ\",\"MA\",\"OH\",\"NC\",\"WA\",\"FL\",\"PA\",\"CA\",\"TX\"],\"State_Code\":[\"MP\",\"PR\",\"SD\",\"VI\",\"ND\",\"VT\",\"WY\",\"MT\",\"DE\",\"AK\",\"GU\",\"ID\",\"NE\",\"WV\",\"ME\",\"NH\",\"MS\",\"NM\",\"AR\",\"IA\",\"NV\",\"RI\",\"KS\",\"HI\",\"OK\",\"MO\",\"KY\",\"AZ\",\"MN\",\"AL\",\"UT\",\"LA\",\"CT\",\"CO\",\"SC\",\"OR\",\"IN\",\"WI\",\"MD\",\"IL\",\"TN\",\"GA\",\"MI\",\"VA\",\"NY\",\"NJ\",\"MA\",\"OH\",\"NC\",\"WA\",\"FL\",\"PA\",\"CA\",\"TX\"]},\"selected\":{\"id\":\"2159\"},\"selection_policy\":{\"id\":\"2194\"}},\"id\":\"2158\",\"type\":\"ColumnDataSource\"},{\"attributes\":{\"toolbar\":{\"id\":\"2197\"},\"toolbar_location\":\"above\"},\"id\":\"2198\",\"type\":\"ToolbarBox\"},{\"attributes\":{},\"id\":\"2097\",\"type\":\"WheelZoomTool\"},{\"attributes\":{\"toolbars\":[{\"id\":\"2101\"},{\"id\":\"2151\"}],\"tools\":[{\"id\":\"2078\"},{\"id\":\"2095\"},{\"id\":\"2096\"},{\"id\":\"2097\"},{\"id\":\"2098\"},{\"id\":\"2099\"},{\"id\":\"2128\"},{\"id\":\"2145\"},{\"id\":\"2146\"},{\"id\":\"2147\"},{\"id\":\"2148\"},{\"id\":\"2149\"}]},\"id\":\"2197\",\"type\":\"ProxyToolbar\"},{\"attributes\":{\"overlay\":{\"id\":\"2100\"}},\"id\":\"2098\",\"type\":\"BoxZoomTool\"},{\"attributes\":{},\"id\":\"2142\",\"type\":\"BasicTicker\"},{\"attributes\":{},\"id\":\"2134\",\"type\":\"CategoricalScale\"},{\"attributes\":{},\"id\":\"2120\",\"type\":\"CategoricalTickFormatter\"},{\"attributes\":{\"text\":\"2010 - 2014\",\"text_color\":\"black\",\"text_font_size\":\"12pt\"},\"id\":\"2130\",\"type\":\"Title\"},{\"attributes\":{},\"id\":\"2119\",\"type\":\"AllLabels\"},{\"attributes\":{\"children\":[{\"id\":\"2198\"},{\"id\":\"2196\"}]},\"id\":\"2199\",\"type\":\"Column\"},{\"attributes\":{\"factors\":[\"MP\",\"PR\",\"VI\",\"SD\",\"ND\",\"VT\",\"MT\",\"WY\",\"DE\",\"AK\",\"GU\",\"ID\",\"NE\",\"WV\",\"ME\",\"NH\",\"NM\",\"MS\",\"AR\",\"IA\",\"KS\",\"RI\",\"HI\",\"NV\",\"OK\",\"AZ\",\"KY\",\"MO\",\"MN\",\"AL\",\"CT\",\"UT\",\"LA\",\"IL\",\"CO\",\"WI\",\"SC\",\"OR\",\"IN\",\"TN\",\"MD\",\"MA\",\"GA\",\"NY\",\"NJ\",\"MI\",\"VA\",\"WA\",\"NC\",\"OH\",\"PA\",\"FL\",\"TX\",\"CA\"],\"tags\":[[[\"State Code\",\"State Code\",null]]]},\"id\":\"2076\",\"type\":\"FactorRange\"},{\"attributes\":{\"axis_label\":\"State Code\",\"formatter\":{\"id\":\"2170\"},\"major_label_orientation\":1.5707963267948966,\"major_label_policy\":{\"id\":\"2169\"},\"ticker\":{\"id\":\"2139\"}},\"id\":\"2138\",\"type\":\"CategoricalAxis\"},{\"attributes\":{\"axis\":{\"id\":\"2138\"},\"grid_line_color\":null,\"ticker\":null},\"id\":\"2140\",\"type\":\"Grid\"},{\"attributes\":{\"data_source\":{\"id\":\"2158\"},\"glyph\":{\"id\":\"2161\"},\"hover_glyph\":null,\"muted_glyph\":{\"id\":\"2163\"},\"nonselection_glyph\":{\"id\":\"2162\"},\"selection_glyph\":{\"id\":\"2166\"},\"view\":{\"id\":\"2165\"}},\"id\":\"2164\",\"type\":\"GlyphRenderer\"},{\"attributes\":{},\"id\":\"2136\",\"type\":\"LinearScale\"},{\"attributes\":{\"line_alpha\":0.2,\"line_color\":\"#30a2da\",\"line_width\":2,\"x\":{\"field\":\"State Code\"},\"y\":{\"field\":\"2010 - 2014\"}},\"id\":\"2163\",\"type\":\"Line\"},{\"attributes\":{\"end\":3309753.04,\"reset_end\":3309753.04,\"reset_start\":-300886.64,\"start\":-300886.64,\"tags\":[[[\"2015 - 2016\",\"2015 - 2016\",null]]]},\"id\":\"2077\",\"type\":\"Range1d\"},{\"attributes\":{\"source\":{\"id\":\"2158\"}},\"id\":\"2165\",\"type\":\"CDSView\"},{\"attributes\":{\"callback\":null,\"renderers\":[{\"id\":\"2114\"}],\"tags\":[\"hv_created\"],\"tooltips\":[[\"State Code\",\"@{State_Code}\"],[\"2015 - 2016\",\"@{A_2015_hyphen_minus_2016}\"]]},\"id\":\"2078\",\"type\":\"HoverTool\"},{\"attributes\":{},\"id\":\"2139\",\"type\":\"CategoricalTicker\"},{\"attributes\":{\"below\":[{\"id\":\"2138\"}],\"center\":[{\"id\":\"2140\"},{\"id\":\"2144\"}],\"height\":300,\"left\":[{\"id\":\"2141\"}],\"margin\":null,\"min_border_bottom\":10,\"min_border_left\":10,\"min_border_right\":10,\"min_border_top\":10,\"renderers\":[{\"id\":\"2164\"}],\"sizing_mode\":\"fixed\",\"title\":{\"id\":\"2130\"},\"toolbar\":{\"id\":\"2151\"},\"toolbar_location\":null,\"width\":700,\"x_range\":{\"id\":\"2076\"},\"x_scale\":{\"id\":\"2134\"},\"y_range\":{\"id\":\"2127\"},\"y_scale\":{\"id\":\"2136\"}},\"id\":\"2129\",\"subtype\":\"Figure\",\"type\":\"Plot\"},{\"attributes\":{\"axis_label\":\"\",\"formatter\":{\"id\":\"2167\"},\"major_label_policy\":{\"id\":\"2172\"},\"ticker\":{\"id\":\"2142\"}},\"id\":\"2141\",\"type\":\"LinearAxis\"},{\"attributes\":{\"line_alpha\":0.1,\"line_color\":\"#30a2da\",\"line_width\":2,\"x\":{\"field\":\"State Code\"},\"y\":{\"field\":\"2010 - 2014\"}},\"id\":\"2162\",\"type\":\"Line\"},{\"attributes\":{\"active_multi\":null,\"tools\":[{\"id\":\"2078\"},{\"id\":\"2095\"},{\"id\":\"2096\"},{\"id\":\"2097\"},{\"id\":\"2098\"},{\"id\":\"2099\"}]},\"id\":\"2101\",\"type\":\"Toolbar\"},{\"attributes\":{\"axis\":{\"id\":\"2141\"},\"dimension\":1,\"grid_line_color\":null,\"ticker\":null},\"id\":\"2144\",\"type\":\"Grid\"},{\"attributes\":{\"line_color\":\"#30a2da\",\"line_width\":2,\"x\":{\"field\":\"State Code\"},\"y\":{\"field\":\"2010 - 2014\"}},\"id\":\"2161\",\"type\":\"Line\"},{\"attributes\":{\"data\":{\"2015 - 2016\":{\"__ndarray__\":\"AAAAAAAAAAAAAAAAUPD0QAAAAABgcftAw/UoXPMY/EDhehSuE2L+QFyPwvVOhgBBCtejcB8CAkEAAAAACB8EQdejcD3MJARBuB6F63skB0EAAAAASBwLQXA9Cteh7A9BwvUoXBn8D0EAAAAANF8QQSlcj8IRhhBBAAAAAGQhEUE+CtejIWwTQXsUrkePoRNBzczMzNaxFUEK16NwlBsWQdejcD2v0hlBwvUoXGyYGkEUrkfhyLwbQeJ6FK5ztR5BmZmZmejvHkE9CtejM/oeQfYoXA+1hSJBuB6Fa8CYIkGPwvWor6skQUfhepTl7yRBexSux6iuJUHsUbieBhMmQYXrUThBLiZBSOF6FJwtJ0GF61E4vrwnQQAAAACoOihBPgrXoy6qKEE9CtcjGfooQTQzMzMDyCpBmZmZGXbBLkFwPQpXcMwuQZDC9ahaVS9BNDMzM0B2L0GkcD2KaAUyQcL1KBwDeDJB9ihcD2bZMkGG61E4USY0Qc3MzMz7STdBXI/C9eiLOEGjcD1KxHU5QQAAAMDJvTxBZmZmhqCgQEFmZmamd19GQTMzMzOx9EZB\",\"dtype\":\"float64\",\"order\":\"little\",\"shape\":[54]},\"A_2015_hyphen_minus_2016\":{\"__ndarray__\":\"AAAAAAAAAAAAAAAAUPD0QAAAAABgcftAw/UoXPMY/EDhehSuE2L+QFyPwvVOhgBBCtejcB8CAkEAAAAACB8EQdejcD3MJARBuB6F63skB0EAAAAASBwLQXA9Cteh7A9BwvUoXBn8D0EAAAAANF8QQSlcj8IRhhBBAAAAAGQhEUE+CtejIWwTQXsUrkePoRNBzczMzNaxFUEK16NwlBsWQdejcD2v0hlBwvUoXGyYGkEUrkfhyLwbQeJ6FK5ztR5BmZmZmejvHkE9CtejM/oeQfYoXA+1hSJBuB6Fa8CYIkGPwvWor6skQUfhepTl7yRBexSux6iuJUHsUbieBhMmQYXrUThBLiZBSOF6FJwtJ0GF61E4vrwnQQAAAACoOihBPgrXoy6qKEE9CtcjGfooQTQzMzMDyCpBmZmZGXbBLkFwPQpXcMwuQZDC9ahaVS9BNDMzM0B2L0GkcD2KaAUyQcL1KBwDeDJB9ihcD2bZMkGG61E4USY0Qc3MzMz7STdBXI/C9eiLOEGjcD1KxHU5QQAAAMDJvTxBZmZmhqCgQEFmZmamd19GQTMzMzOx9EZB\",\"dtype\":\"float64\",\"order\":\"little\",\"shape\":[54]},\"State Code\":[\"MP\",\"PR\",\"VI\",\"SD\",\"ND\",\"VT\",\"MT\",\"WY\",\"DE\",\"AK\",\"GU\",\"ID\",\"NE\",\"WV\",\"ME\",\"NH\",\"NM\",\"MS\",\"AR\",\"IA\",\"KS\",\"RI\",\"HI\",\"NV\",\"OK\",\"AZ\",\"KY\",\"MO\",\"MN\",\"AL\",\"CT\",\"UT\",\"LA\",\"IL\",\"CO\",\"WI\",\"SC\",\"OR\",\"IN\",\"TN\",\"MD\",\"MA\",\"GA\",\"NY\",\"NJ\",\"MI\",\"VA\",\"WA\",\"NC\",\"OH\",\"PA\",\"FL\",\"TX\",\"CA\"],\"State_Code\":[\"MP\",\"PR\",\"VI\",\"SD\",\"ND\",\"VT\",\"MT\",\"WY\",\"DE\",\"AK\",\"GU\",\"ID\",\"NE\",\"WV\",\"ME\",\"NH\",\"NM\",\"MS\",\"AR\",\"IA\",\"KS\",\"RI\",\"HI\",\"NV\",\"OK\",\"AZ\",\"KY\",\"MO\",\"MN\",\"AL\",\"CT\",\"UT\",\"LA\",\"IL\",\"CO\",\"WI\",\"SC\",\"OR\",\"IN\",\"TN\",\"MD\",\"MA\",\"GA\",\"NY\",\"NJ\",\"MI\",\"VA\",\"WA\",\"NC\",\"OH\",\"PA\",\"FL\",\"TX\",\"CA\"]},\"selected\":{\"id\":\"2109\"},\"selection_policy\":{\"id\":\"2184\"}},\"id\":\"2108\",\"type\":\"ColumnDataSource\"},{\"attributes\":{\"bottom_units\":\"screen\",\"fill_alpha\":0.5,\"fill_color\":\"lightgrey\",\"left_units\":\"screen\",\"level\":\"overlay\",\"line_alpha\":1.0,\"line_color\":\"black\",\"line_dash\":[4,4],\"line_width\":2,\"right_units\":\"screen\",\"syncable\":false,\"top_units\":\"screen\"},\"id\":\"2100\",\"type\":\"BoxAnnotation\"},{\"attributes\":{\"format\":\"%.0f\"},\"id\":\"2167\",\"type\":\"PrintfTickFormatter\"},{\"attributes\":{\"below\":[{\"id\":\"2088\"}],\"center\":[{\"id\":\"2090\"},{\"id\":\"2094\"}],\"height\":300,\"left\":[{\"id\":\"2091\"}],\"margin\":null,\"min_border_bottom\":10,\"min_border_left\":10,\"min_border_right\":10,\"min_border_top\":10,\"renderers\":[{\"id\":\"2114\"}],\"sizing_mode\":\"fixed\",\"title\":{\"id\":\"2080\"},\"toolbar\":{\"id\":\"2101\"},\"toolbar_location\":null,\"width\":700,\"x_range\":{\"id\":\"2076\"},\"x_scale\":{\"id\":\"2084\"},\"y_range\":{\"id\":\"2077\"},\"y_scale\":{\"id\":\"2086\"}},\"id\":\"2079\",\"subtype\":\"Figure\",\"type\":\"Plot\"},{\"attributes\":{\"line_color\":\"#30a2da\",\"line_width\":2,\"x\":{\"field\":\"State Code\"},\"y\":{\"field\":\"2010 - 2014\"}},\"id\":\"2166\",\"type\":\"Line\"},{\"attributes\":{},\"id\":\"2170\",\"type\":\"CategoricalTickFormatter\"},{\"attributes\":{},\"id\":\"2109\",\"type\":\"Selection\"},{\"attributes\":{\"line_color\":\"#30a2da\",\"line_width\":2,\"x\":{\"field\":\"State Code\"},\"y\":{\"field\":\"2015 - 2016\"}},\"id\":\"2116\",\"type\":\"Line\"},{\"attributes\":{},\"id\":\"2145\",\"type\":\"SaveTool\"},{\"attributes\":{\"format\":\"%.0f\"},\"id\":\"2117\",\"type\":\"PrintfTickFormatter\"},{\"attributes\":{\"margin\":[5,5,5,5],\"name\":\"HSpacer03204\",\"sizing_mode\":\"stretch_width\"},\"id\":\"2362\",\"type\":\"Spacer\"},{\"attributes\":{},\"id\":\"2146\",\"type\":\"PanTool\"},{\"attributes\":{},\"id\":\"2149\",\"type\":\"ResetTool\"},{\"attributes\":{\"source\":{\"id\":\"2108\"}},\"id\":\"2115\",\"type\":\"CDSView\"},{\"attributes\":{},\"id\":\"2147\",\"type\":\"WheelZoomTool\"},{\"attributes\":{\"line_color\":\"#30a2da\",\"line_width\":2,\"x\":{\"field\":\"State Code\"},\"y\":{\"field\":\"2015 - 2016\"}},\"id\":\"2111\",\"type\":\"Line\"},{\"attributes\":{\"margin\":[5,5,5,5],\"name\":\"HSpacer03203\",\"sizing_mode\":\"stretch_width\"},\"id\":\"2075\",\"type\":\"Spacer\"},{\"attributes\":{},\"id\":\"2084\",\"type\":\"CategoricalScale\"},{\"attributes\":{\"overlay\":{\"id\":\"2150\"}},\"id\":\"2148\",\"type\":\"BoxZoomTool\"},{\"attributes\":{\"end\":3523678.784,\"reset_end\":3523678.784,\"reset_start\":-290429.34400000004,\"start\":-290429.34400000004,\"tags\":[[[\"2010 - 2014\",\"2010 - 2014\",null]]]},\"id\":\"2127\",\"type\":\"Range1d\"},{\"attributes\":{\"text\":\"2015 - 2016\",\"text_color\":\"black\",\"text_font_size\":\"12pt\"},\"id\":\"2080\",\"type\":\"Title\"},{\"attributes\":{\"children\":[{\"id\":\"2075\"},{\"id\":\"2199\"},{\"id\":\"2362\"}],\"margin\":[0,0,0,0],\"name\":\"Row03199\",\"tags\":[\"embedded\"]},\"id\":\"2074\",\"type\":\"Row\"},{\"attributes\":{\"axis_label\":\"State Code\",\"formatter\":{\"id\":\"2120\"},\"major_label_orientation\":1.5707963267948966,\"major_label_policy\":{\"id\":\"2119\"},\"ticker\":{\"id\":\"2089\"}},\"id\":\"2088\",\"type\":\"CategoricalAxis\"},{\"attributes\":{\"axis\":{\"id\":\"2088\"},\"grid_line_color\":null,\"ticker\":null},\"id\":\"2090\",\"type\":\"Grid\"},{\"attributes\":{},\"id\":\"2122\",\"type\":\"AllLabels\"},{\"attributes\":{\"children\":[[{\"id\":\"2079\"},0,0],[{\"id\":\"2129\"},0,1]]},\"id\":\"2196\",\"type\":\"GridBox\"},{\"attributes\":{},\"id\":\"2086\",\"type\":\"LinearScale\"},{\"attributes\":{},\"id\":\"2089\",\"type\":\"CategoricalTicker\"},{\"attributes\":{\"axis\":{\"id\":\"2091\"},\"dimension\":1,\"grid_line_color\":null,\"ticker\":null},\"id\":\"2094\",\"type\":\"Grid\"},{\"attributes\":{},\"id\":\"2169\",\"type\":\"AllLabels\"},{\"attributes\":{},\"id\":\"2184\",\"type\":\"UnionRenderers\"},{\"attributes\":{},\"id\":\"2092\",\"type\":\"BasicTicker\"},{\"attributes\":{},\"id\":\"2172\",\"type\":\"AllLabels\"},{\"attributes\":{\"active_multi\":null,\"tools\":[{\"id\":\"2128\"},{\"id\":\"2145\"},{\"id\":\"2146\"},{\"id\":\"2147\"},{\"id\":\"2148\"},{\"id\":\"2149\"}]},\"id\":\"2151\",\"type\":\"Toolbar\"},{\"attributes\":{\"axis_label\":\"\",\"formatter\":{\"id\":\"2117\"},\"major_label_policy\":{\"id\":\"2122\"},\"ticker\":{\"id\":\"2092\"}},\"id\":\"2091\",\"type\":\"LinearAxis\"},{\"attributes\":{\"data_source\":{\"id\":\"2108\"},\"glyph\":{\"id\":\"2111\"},\"hover_glyph\":null,\"muted_glyph\":{\"id\":\"2113\"},\"nonselection_glyph\":{\"id\":\"2112\"},\"selection_glyph\":{\"id\":\"2116\"},\"view\":{\"id\":\"2115\"}},\"id\":\"2114\",\"type\":\"GlyphRenderer\"},{\"attributes\":{\"bottom_units\":\"screen\",\"fill_alpha\":0.5,\"fill_color\":\"lightgrey\",\"left_units\":\"screen\",\"level\":\"overlay\",\"line_alpha\":1.0,\"line_color\":\"black\",\"line_dash\":[4,4],\"line_width\":2,\"right_units\":\"screen\",\"syncable\":false,\"top_units\":\"screen\"},\"id\":\"2150\",\"type\":\"BoxAnnotation\"},{\"attributes\":{},\"id\":\"2159\",\"type\":\"Selection\"},{\"attributes\":{\"callback\":null,\"renderers\":[{\"id\":\"2164\"}],\"tags\":[\"hv_created\"],\"tooltips\":[[\"State Code\",\"@{State_Code}\"],[\"2010 - 2014\",\"@{A_2010_hyphen_minus_2014}\"]]},\"id\":\"2128\",\"type\":\"HoverTool\"},{\"attributes\":{\"line_alpha\":0.1,\"line_color\":\"#30a2da\",\"line_width\":2,\"x\":{\"field\":\"State Code\"},\"y\":{\"field\":\"2015 - 2016\"}},\"id\":\"2112\",\"type\":\"Line\"},{\"attributes\":{\"line_alpha\":0.2,\"line_color\":\"#30a2da\",\"line_width\":2,\"x\":{\"field\":\"State Code\"},\"y\":{\"field\":\"2015 - 2016\"}},\"id\":\"2113\",\"type\":\"Line\"},{\"attributes\":{},\"id\":\"2194\",\"type\":\"UnionRenderers\"},{\"attributes\":{},\"id\":\"2095\",\"type\":\"SaveTool\"}],\"root_ids\":[\"2074\"]},\"title\":\"Bokeh Application\",\"version\":\"2.3.2\"}};\n",
       "    var render_items = [{\"docid\":\"0983fc8a-04cd-4897-964e-9b76842a7298\",\"root_ids\":[\"2074\"],\"roots\":{\"2074\":\"894f1cfa-157b-4155-9160-5e36412e5ca8\"}}];\n",
       "    root.Bokeh.embed.embed_items_notebook(docs_json, render_items);\n",
       "  }\n",
       "  if (root.Bokeh !== undefined && root.Bokeh.Panel !== undefined) {\n",
       "    embed_document(root);\n",
       "  } else {\n",
       "    var attempts = 0;\n",
       "    var timer = setInterval(function(root) {\n",
       "      if (root.Bokeh !== undefined && root.Bokeh.Panel !== undefined) {\n",
       "        clearInterval(timer);\n",
       "        embed_document(root);\n",
       "      } else if (document.readyState == \"complete\") {\n",
       "        attempts++;\n",
       "        if (attempts > 200) {\n",
       "          clearInterval(timer);\n",
       "          console.log(\"Bokeh: ERROR: Unable to run BokehJS code because BokehJS library is missing\");\n",
       "        }\n",
       "      }\n",
       "    }, 25, root)\n",
       "  }\n",
       "})(window);</script>"
      ],
      "text/plain": [
       ":Layout\n",
       "   .Curve.A_2015_hyphen_minus_2016 :Curve   [State Code]   (2015 - 2016)\n",
       "   .Curve.A_2010_hyphen_minus_2014 :Curve   [State Code]   (2010 - 2014)"
      ]
     },
     "execution_count": 10,
     "metadata": {
      "application/vnd.holoviews_exec.v0+json": {
       "id": "2074"
      }
     },
     "output_type": "execute_result"
    }
   ],
   "source": [
    "# Slice data for Total Average Loan Amount by 2015-2016 and 2010-2014 date ranges\n",
    "loan_data_range_1 = loan_data['2015 - 2016']\n",
    "loan_data_range_2 = loan_data['2010 - 2014']\n",
    "loan_data_range_grp = loan_data_range_1.sort_values()\n",
    "loan_data_range_grp_2 = loan_data_range_2.sort_values()\n",
    "\n",
    "# Use rot argument and yformatter option to customize formatting\n",
    "plot_2015_2016 = loan_data_range_grp.hvplot(label='2015 - 2016' ,rot=90).opts(yformatter=\"%.0f\")\n",
    "plot_2010_2014 = loan_data_range_grp_2.hvplot(label='2010 - 2014',rot=90).opts(yformatter=\"%.0f\")\n",
    "\n",
    "plot_2015_2016 + plot_2010_2014"
   ]
  },
  {
   "cell_type": "markdown",
   "metadata": {},
   "source": [
    "### Use title option to customize title"
   ]
  },
  {
   "cell_type": "code",
   "execution_count": 14,
   "metadata": {},
   "outputs": [
    {
     "data": {},
     "metadata": {},
     "output_type": "display_data"
    },
    {
     "data": {
      "application/vnd.holoviews_exec.v0+json": "",
      "text/html": [
       "<div id='2749'>\n",
       "\n",
       "\n",
       "\n",
       "\n",
       "\n",
       "  <div class=\"bk-root\" id=\"f974c9e7-3140-4490-a3fc-9305ca8f7f0f\" data-root-id=\"2749\"></div>\n",
       "</div>\n",
       "<script type=\"application/javascript\">(function(root) {\n",
       "  function embed_document(root) {\n",
       "    var docs_json = {\"49a01a0a-8167-4936-a7a5-1d6aacb90781\":{\"defs\":[{\"extends\":null,\"module\":null,\"name\":\"ReactiveHTML1\",\"overrides\":[],\"properties\":[]},{\"extends\":null,\"module\":null,\"name\":\"FlexBox1\",\"overrides\":[],\"properties\":[{\"default\":\"flex-start\",\"kind\":null,\"name\":\"align_content\"},{\"default\":\"flex-start\",\"kind\":null,\"name\":\"align_items\"},{\"default\":\"row\",\"kind\":null,\"name\":\"flex_direction\"},{\"default\":\"wrap\",\"kind\":null,\"name\":\"flex_wrap\"},{\"default\":\"flex-start\",\"kind\":null,\"name\":\"justify_content\"}]},{\"extends\":null,\"module\":null,\"name\":\"TemplateActions1\",\"overrides\":[],\"properties\":[{\"default\":0,\"kind\":null,\"name\":\"open_modal\"},{\"default\":0,\"kind\":null,\"name\":\"close_modal\"}]},{\"extends\":null,\"module\":null,\"name\":\"MaterialTemplateActions1\",\"overrides\":[],\"properties\":[{\"default\":0,\"kind\":null,\"name\":\"open_modal\"},{\"default\":0,\"kind\":null,\"name\":\"close_modal\"}]}],\"roots\":{\"references\":[{\"attributes\":{\"axis_label\":\"State Code\",\"formatter\":{\"id\":\"2790\"},\"major_label_orientation\":1.5707963267948966,\"major_label_policy\":{\"id\":\"2789\"},\"ticker\":{\"id\":\"2766\"}},\"id\":\"2765\",\"type\":\"CategoricalAxis\"},{\"attributes\":{\"fill_alpha\":{\"value\":0.1},\"fill_color\":{\"value\":\"#30a2da\"},\"line_alpha\":{\"value\":0.1},\"top\":{\"field\":\"Total_Average_Loan_Amount\"},\"width\":{\"value\":0.8},\"x\":{\"field\":\"State_Code\"}},\"id\":\"2800\",\"type\":\"VBar\"},{\"attributes\":{\"axis\":{\"id\":\"2765\"},\"grid_line_color\":null,\"ticker\":null},\"id\":\"2767\",\"type\":\"Grid\"},{\"attributes\":{\"data_source\":{\"id\":\"2816\"},\"glyph\":{\"id\":\"2819\"},\"hover_glyph\":null,\"muted_glyph\":{\"id\":\"2821\"},\"nonselection_glyph\":{\"id\":\"2820\"},\"selection_glyph\":{\"id\":\"2836\"},\"view\":{\"id\":\"2823\"}},\"id\":\"2822\",\"type\":\"GlyphRenderer\"},{\"attributes\":{},\"id\":\"2761\",\"type\":\"CategoricalScale\"},{\"attributes\":{},\"id\":\"2789\",\"type\":\"AllLabels\"},{\"attributes\":{\"margin\":[5,5,5,5],\"name\":\"HSpacer05116\",\"sizing_mode\":\"stretch_width\"},\"id\":\"2977\",\"type\":\"Spacer\"},{\"attributes\":{\"label\":{\"value\":\"2010 - 2014\"},\"renderers\":[{\"id\":\"2843\"}]},\"id\":\"2858\",\"type\":\"LegendItem\"},{\"attributes\":{\"data\":{\"2015 - 2016\":{\"__ndarray__\":\"AAAAAAAAAAAAAAAAUPD0QAAAAABgcftAw/UoXPMY/EDhehSuE2L+QFyPwvVOhgBBCtejcB8CAkEAAAAACB8EQdejcD3MJARBuB6F63skB0EAAAAASBwLQXA9Cteh7A9BwvUoXBn8D0EAAAAANF8QQSlcj8IRhhBBAAAAAGQhEUE+CtejIWwTQXsUrkePoRNBzczMzNaxFUEK16NwlBsWQdejcD2v0hlBwvUoXGyYGkEUrkfhyLwbQeJ6FK5ztR5BmZmZmejvHkE9CtejM/oeQfYoXA+1hSJBuB6Fa8CYIkGPwvWor6skQUfhepTl7yRBexSux6iuJUHsUbieBhMmQYXrUThBLiZBSOF6FJwtJ0GF61E4vrwnQQAAAACoOihBPgrXoy6qKEE9CtcjGfooQTQzMzMDyCpBmZmZGXbBLkFwPQpXcMwuQZDC9ahaVS9BNDMzM0B2L0GkcD2KaAUyQcL1KBwDeDJB9ihcD2bZMkGG61E4USY0Qc3MzMz7STdBXI/C9eiLOEGjcD1KxHU5QQAAAMDJvTxBZmZmhqCgQEFmZmamd19GQTMzMzOx9EZB\",\"dtype\":\"float64\",\"order\":\"little\",\"shape\":[54]},\"A_2015_hyphen_minus_2016\":{\"__ndarray__\":\"AAAAAAAAAAAAAAAAUPD0QAAAAABgcftAw/UoXPMY/EDhehSuE2L+QFyPwvVOhgBBCtejcB8CAkEAAAAACB8EQdejcD3MJARBuB6F63skB0EAAAAASBwLQXA9Cteh7A9BwvUoXBn8D0EAAAAANF8QQSlcj8IRhhBBAAAAAGQhEUE+CtejIWwTQXsUrkePoRNBzczMzNaxFUEK16NwlBsWQdejcD2v0hlBwvUoXGyYGkEUrkfhyLwbQeJ6FK5ztR5BmZmZmejvHkE9CtejM/oeQfYoXA+1hSJBuB6Fa8CYIkGPwvWor6skQUfhepTl7yRBexSux6iuJUHsUbieBhMmQYXrUThBLiZBSOF6FJwtJ0GF61E4vrwnQQAAAACoOihBPgrXoy6qKEE9CtcjGfooQTQzMzMDyCpBmZmZGXbBLkFwPQpXcMwuQZDC9ahaVS9BNDMzM0B2L0GkcD2KaAUyQcL1KBwDeDJB9ihcD2bZMkGG61E4USY0Qc3MzMz7STdBXI/C9eiLOEGjcD1KxHU5QQAAAMDJvTxBZmZmhqCgQEFmZmamd19GQTMzMzOx9EZB\",\"dtype\":\"float64\",\"order\":\"little\",\"shape\":[54]},\"State Code\":[\"MP\",\"PR\",\"VI\",\"SD\",\"ND\",\"VT\",\"MT\",\"WY\",\"DE\",\"AK\",\"GU\",\"ID\",\"NE\",\"WV\",\"ME\",\"NH\",\"NM\",\"MS\",\"AR\",\"IA\",\"KS\",\"RI\",\"HI\",\"NV\",\"OK\",\"AZ\",\"KY\",\"MO\",\"MN\",\"AL\",\"CT\",\"UT\",\"LA\",\"IL\",\"CO\",\"WI\",\"SC\",\"OR\",\"IN\",\"TN\",\"MD\",\"MA\",\"GA\",\"NY\",\"NJ\",\"MI\",\"VA\",\"WA\",\"NC\",\"OH\",\"PA\",\"FL\",\"TX\",\"CA\"],\"State_Code\":[\"MP\",\"PR\",\"VI\",\"SD\",\"ND\",\"VT\",\"MT\",\"WY\",\"DE\",\"AK\",\"GU\",\"ID\",\"NE\",\"WV\",\"ME\",\"NH\",\"NM\",\"MS\",\"AR\",\"IA\",\"KS\",\"RI\",\"HI\",\"NV\",\"OK\",\"AZ\",\"KY\",\"MO\",\"MN\",\"AL\",\"CT\",\"UT\",\"LA\",\"IL\",\"CO\",\"WI\",\"SC\",\"OR\",\"IN\",\"TN\",\"MD\",\"MA\",\"GA\",\"NY\",\"NJ\",\"MI\",\"VA\",\"WA\",\"NC\",\"OH\",\"PA\",\"FL\",\"TX\",\"CA\"]},\"selected\":{\"id\":\"2817\"},\"selection_policy\":{\"id\":\"2834\"}},\"id\":\"2816\",\"type\":\"ColumnDataSource\"},{\"attributes\":{},\"id\":\"2763\",\"type\":\"LinearScale\"},{\"attributes\":{\"click_policy\":\"mute\",\"items\":[{\"id\":\"2814\"},{\"id\":\"2835\"},{\"id\":\"2858\"}],\"location\":[0,0]},\"id\":\"2813\",\"type\":\"Legend\"},{\"attributes\":{},\"id\":\"2797\",\"type\":\"Selection\"},{\"attributes\":{\"callback\":null,\"renderers\":[{\"id\":\"2802\"}],\"tags\":[\"hv_created\"],\"tooltips\":[[\"State Code\",\"@{State_Code}\"],[\"Total Average Loan Amount\",\"@{Total_Average_Loan_Amount}\"]]},\"id\":\"2753\",\"type\":\"HoverTool\"},{\"attributes\":{\"label\":{\"value\":\"2015 - 2016\"},\"renderers\":[{\"id\":\"2822\"}]},\"id\":\"2835\",\"type\":\"LegendItem\"},{\"attributes\":{\"data\":{\"2010 - 2014\":{\"__ndarray__\":\"AAAAAEDF2kAAAAAAULzzQPYoXI+yuvlAAAAAACA8/EDXo3A9eh79QFK4HoUDQgBBAAAAAEhJAEEfhetRii8BQR+F61HK1gNB7FG4HpsKBUEAAAAA8M0HQexRuB6nnA5BehSuRytREEEAAAAA0JkQQRSuR+HbvxBBHoXrUQ+UEUEAAAAA4tMRQT4K16PIeRJB4XoUril1FUFnZmZmhZMVQSpcj8K/RxhBXI/C9SBjGEHhehSuMNkYQR+F61GBGxpBKVyPwqpwHEFcj8J1LjYhQfYoXA9pNSJBexSuRxFNIkHsUbiebfYiQRWuR+GuyyNBuB6FazdGJEFwPQrXCiclQVK4HoWcQCVBwvUoXDaVJUEAAACAShInQaRwPQrxaCdBZWZmZtumKEEAAAAAmD0pQSCF61Gd3ilB7FG4HsPlKUEoXI9C7tErQa1H4bqQkjFBZ2ZmZq+ZMUFxPQoXCE8yQWdmZiaJWDJBC9ej8HJLNEE+CtfjgGY0QRWuR2FODzZBZmZmZoAGN0GQwvWoFhA3QRWuRyGWpD1BAAAAwKYZP0HXo3CdZvxFQYXrUThmdUhB\",\"dtype\":\"float64\",\"order\":\"little\",\"shape\":[54]},\"A_2010_hyphen_minus_2014\":{\"__ndarray__\":\"AAAAAEDF2kAAAAAAULzzQPYoXI+yuvlAAAAAACA8/EDXo3A9eh79QFK4HoUDQgBBAAAAAEhJAEEfhetRii8BQR+F61HK1gNB7FG4HpsKBUEAAAAA8M0HQexRuB6nnA5BehSuRytREEEAAAAA0JkQQRSuR+HbvxBBHoXrUQ+UEUEAAAAA4tMRQT4K16PIeRJB4XoUril1FUFnZmZmhZMVQSpcj8K/RxhBXI/C9SBjGEHhehSuMNkYQR+F61GBGxpBKVyPwqpwHEFcj8J1LjYhQfYoXA9pNSJBexSuRxFNIkHsUbiebfYiQRWuR+GuyyNBuB6FazdGJEFwPQrXCiclQVK4HoWcQCVBwvUoXDaVJUEAAACAShInQaRwPQrxaCdBZWZmZtumKEEAAAAAmD0pQSCF61Gd3ilB7FG4HsPlKUEoXI9C7tErQa1H4bqQkjFBZ2ZmZq+ZMUFxPQoXCE8yQWdmZiaJWDJBC9ej8HJLNEE+CtfjgGY0QRWuR2FODzZBZmZmZoAGN0GQwvWoFhA3QRWuRyGWpD1BAAAAwKYZP0HXo3CdZvxFQYXrUThmdUhB\",\"dtype\":\"float64\",\"order\":\"little\",\"shape\":[54]},\"State Code\":[\"MP\",\"PR\",\"SD\",\"VI\",\"ND\",\"VT\",\"WY\",\"MT\",\"DE\",\"AK\",\"GU\",\"ID\",\"NE\",\"WV\",\"ME\",\"NH\",\"MS\",\"NM\",\"AR\",\"IA\",\"NV\",\"RI\",\"KS\",\"HI\",\"OK\",\"MO\",\"KY\",\"AZ\",\"MN\",\"AL\",\"UT\",\"LA\",\"CT\",\"CO\",\"SC\",\"OR\",\"IN\",\"WI\",\"MD\",\"IL\",\"TN\",\"GA\",\"MI\",\"VA\",\"NY\",\"NJ\",\"MA\",\"OH\",\"NC\",\"WA\",\"FL\",\"PA\",\"CA\",\"TX\"],\"State_Code\":[\"MP\",\"PR\",\"SD\",\"VI\",\"ND\",\"VT\",\"WY\",\"MT\",\"DE\",\"AK\",\"GU\",\"ID\",\"NE\",\"WV\",\"ME\",\"NH\",\"MS\",\"NM\",\"AR\",\"IA\",\"NV\",\"RI\",\"KS\",\"HI\",\"OK\",\"MO\",\"KY\",\"AZ\",\"MN\",\"AL\",\"UT\",\"LA\",\"CT\",\"CO\",\"SC\",\"OR\",\"IN\",\"WI\",\"MD\",\"IL\",\"TN\",\"GA\",\"MI\",\"VA\",\"NY\",\"NJ\",\"MA\",\"OH\",\"NC\",\"WA\",\"FL\",\"PA\",\"CA\",\"TX\"]},\"selected\":{\"id\":\"2838\"},\"selection_policy\":{\"id\":\"2857\"}},\"id\":\"2837\",\"type\":\"ColumnDataSource\"},{\"attributes\":{},\"id\":\"2790\",\"type\":\"CategoricalTickFormatter\"},{\"attributes\":{},\"id\":\"2766\",\"type\":\"CategoricalTicker\"},{\"attributes\":{\"line_alpha\":0.2,\"line_color\":\"#30a2da\",\"line_width\":2,\"x\":{\"field\":\"State Code\"},\"y\":{\"field\":\"2015 - 2016\"}},\"id\":\"2821\",\"type\":\"Line\"},{\"attributes\":{},\"id\":\"2817\",\"type\":\"Selection\"},{\"attributes\":{\"axis_label\":\"\",\"formatter\":{\"id\":\"2787\"},\"major_label_policy\":{\"id\":\"2792\"},\"ticker\":{\"id\":\"2769\"}},\"id\":\"2768\",\"type\":\"LinearAxis\"},{\"attributes\":{\"line_alpha\":0.1,\"line_color\":\"#fc4f30\",\"line_width\":2,\"x\":{\"field\":\"State Code\"},\"y\":{\"field\":\"2010 - 2014\"}},\"id\":\"2841\",\"type\":\"Line\"},{\"attributes\":{\"axis\":{\"id\":\"2768\"},\"dimension\":1,\"grid_line_color\":null,\"ticker\":null},\"id\":\"2771\",\"type\":\"Grid\"},{\"attributes\":{\"line_color\":\"#fc4f30\",\"line_width\":2,\"x\":{\"field\":\"State Code\"},\"y\":{\"field\":\"2010 - 2014\"}},\"id\":\"2859\",\"type\":\"Line\"},{\"attributes\":{\"fill_alpha\":{\"value\":0.2},\"fill_color\":{\"value\":\"#30a2da\"},\"line_alpha\":{\"value\":0.2},\"top\":{\"field\":\"Total_Average_Loan_Amount\"},\"width\":{\"value\":0.8},\"x\":{\"field\":\"State_Code\"}},\"id\":\"2801\",\"type\":\"VBar\"},{\"attributes\":{\"line_alpha\":0.1,\"line_color\":\"#30a2da\",\"line_width\":2,\"x\":{\"field\":\"State Code\"},\"y\":{\"field\":\"2015 - 2016\"}},\"id\":\"2820\",\"type\":\"Line\"},{\"attributes\":{\"fill_color\":{\"value\":\"#30a2da\"},\"top\":{\"field\":\"Total_Average_Loan_Amount\"},\"width\":{\"value\":0.8},\"x\":{\"field\":\"State_Code\"}},\"id\":\"2799\",\"type\":\"VBar\"},{\"attributes\":{\"line_color\":\"#30a2da\",\"line_width\":2,\"x\":{\"field\":\"State Code\"},\"y\":{\"field\":\"2015 - 2016\"}},\"id\":\"2836\",\"type\":\"Line\"},{\"attributes\":{\"format\":\"%.0f\"},\"id\":\"2787\",\"type\":\"PrintfTickFormatter\"},{\"attributes\":{\"bottom_units\":\"screen\",\"fill_alpha\":0.5,\"fill_color\":\"lightgrey\",\"left_units\":\"screen\",\"level\":\"overlay\",\"line_alpha\":1.0,\"line_color\":\"black\",\"line_dash\":[4,4],\"line_width\":2,\"right_units\":\"screen\",\"syncable\":false,\"top_units\":\"screen\"},\"id\":\"2777\",\"type\":\"BoxAnnotation\"},{\"attributes\":{\"active_multi\":null,\"tools\":[{\"id\":\"2753\"},{\"id\":\"2754\"},{\"id\":\"2755\"},{\"id\":\"2772\"},{\"id\":\"2773\"},{\"id\":\"2774\"},{\"id\":\"2775\"},{\"id\":\"2776\"}]},\"id\":\"2778\",\"type\":\"Toolbar\"},{\"attributes\":{\"callback\":null,\"renderers\":[{\"id\":\"2822\"}],\"tags\":[\"hv_created\"],\"tooltips\":[[\"State Code\",\"@{State_Code}\"],[\"2015 - 2016\",\"@{A_2015_hyphen_minus_2016}\"]]},\"id\":\"2754\",\"type\":\"HoverTool\"},{\"attributes\":{},\"id\":\"2838\",\"type\":\"Selection\"},{\"attributes\":{\"data_source\":{\"id\":\"2796\"},\"glyph\":{\"id\":\"2799\"},\"hover_glyph\":null,\"muted_glyph\":{\"id\":\"2801\"},\"nonselection_glyph\":{\"id\":\"2800\"},\"selection_glyph\":{\"id\":\"2815\"},\"view\":{\"id\":\"2803\"}},\"id\":\"2802\",\"type\":\"GlyphRenderer\"},{\"attributes\":{\"factors\":[\"MP\",\"PR\",\"ND\",\"SD\",\"VI\",\"WY\",\"VT\",\"MT\",\"DE\",\"AK\",\"GU\",\"MS\",\"WV\",\"ID\",\"ME\",\"NM\",\"NE\",\"NH\",\"AR\",\"IA\",\"KS\",\"HI\",\"RI\",\"OK\",\"NV\",\"AL\",\"LA\",\"KY\",\"SC\",\"CT\",\"MO\",\"CO\",\"AZ\",\"UT\",\"OR\",\"TN\",\"IN\",\"WI\",\"MD\",\"MN\",\"VA\",\"IL\",\"NY\",\"GA\",\"MA\",\"MI\",\"NC\",\"NJ\",\"WA\",\"OH\",\"FL\",\"PA\",\"TX\",\"CA\"],\"tags\":[[[\"State Code\",\"State Code\",null]]]},\"id\":\"2751\",\"type\":\"FactorRange\"},{\"attributes\":{\"callback\":null,\"renderers\":[{\"id\":\"2843\"}],\"tags\":[\"hv_created\"],\"tooltips\":[[\"State Code\",\"@{State_Code}\"],[\"2010 - 2014\",\"@{A_2010_hyphen_minus_2014}\"]]},\"id\":\"2755\",\"type\":\"HoverTool\"},{\"attributes\":{},\"id\":\"2792\",\"type\":\"AllLabels\"},{\"attributes\":{\"data_source\":{\"id\":\"2837\"},\"glyph\":{\"id\":\"2840\"},\"hover_glyph\":null,\"muted_glyph\":{\"id\":\"2842\"},\"nonselection_glyph\":{\"id\":\"2841\"},\"selection_glyph\":{\"id\":\"2859\"},\"view\":{\"id\":\"2844\"}},\"id\":\"2843\",\"type\":\"GlyphRenderer\"},{\"attributes\":{\"children\":[{\"id\":\"2750\"},{\"id\":\"2756\"},{\"id\":\"2977\"}],\"margin\":[0,0,0,0],\"name\":\"Row05111\",\"tags\":[\"embedded\"]},\"id\":\"2749\",\"type\":\"Row\"},{\"attributes\":{},\"id\":\"2769\",\"type\":\"BasicTicker\"},{\"attributes\":{},\"id\":\"2857\",\"type\":\"UnionRenderers\"},{\"attributes\":{\"line_color\":\"#fc4f30\",\"line_width\":2,\"x\":{\"field\":\"State Code\"},\"y\":{\"field\":\"2010 - 2014\"}},\"id\":\"2840\",\"type\":\"Line\"},{\"attributes\":{},\"id\":\"2772\",\"type\":\"SaveTool\"},{\"attributes\":{\"bottom\":{\"value\":0},\"fill_alpha\":{\"value\":1.0},\"fill_color\":{\"value\":\"#30a2da\"},\"hatch_alpha\":{\"value\":1.0},\"hatch_color\":{\"value\":\"black\"},\"hatch_scale\":{\"value\":12.0},\"hatch_weight\":{\"value\":1.0},\"line_alpha\":{\"value\":1.0},\"line_cap\":{\"value\":\"butt\"},\"line_color\":{\"value\":\"black\"},\"line_dash\":{\"value\":[]},\"line_dash_offset\":{\"value\":0},\"line_join\":{\"value\":\"bevel\"},\"line_width\":{\"value\":1},\"top\":{\"field\":\"Total_Average_Loan_Amount\"},\"width\":{\"value\":0.8},\"x\":{\"field\":\"State_Code\"}},\"id\":\"2815\",\"type\":\"VBar\"},{\"attributes\":{},\"id\":\"2773\",\"type\":\"PanTool\"},{\"attributes\":{},\"id\":\"2774\",\"type\":\"WheelZoomTool\"},{\"attributes\":{\"below\":[{\"id\":\"2765\"}],\"center\":[{\"id\":\"2767\"},{\"id\":\"2771\"}],\"height\":300,\"left\":[{\"id\":\"2768\"}],\"margin\":[5,5,5,5],\"min_border_bottom\":10,\"min_border_left\":10,\"min_border_right\":10,\"min_border_top\":10,\"renderers\":[{\"id\":\"2802\"},{\"id\":\"2822\"},{\"id\":\"2843\"}],\"right\":[{\"id\":\"2813\"}],\"sizing_mode\":\"fixed\",\"title\":{\"id\":\"2757\"},\"toolbar\":{\"id\":\"2778\"},\"width\":1000,\"x_range\":{\"id\":\"2751\"},\"x_scale\":{\"id\":\"2761\"},\"y_range\":{\"id\":\"2752\"},\"y_scale\":{\"id\":\"2763\"}},\"id\":\"2756\",\"subtype\":\"Figure\",\"type\":\"Plot\"},{\"attributes\":{\"source\":{\"id\":\"2837\"}},\"id\":\"2844\",\"type\":\"CDSView\"},{\"attributes\":{},\"id\":\"2812\",\"type\":\"UnionRenderers\"},{\"attributes\":{},\"id\":\"2834\",\"type\":\"UnionRenderers\"},{\"attributes\":{\"margin\":[5,5,5,5],\"name\":\"HSpacer05115\",\"sizing_mode\":\"stretch_width\"},\"id\":\"2750\",\"type\":\"Spacer\"},{\"attributes\":{\"source\":{\"id\":\"2796\"}},\"id\":\"2803\",\"type\":\"CDSView\"},{\"attributes\":{\"data\":{\"State_Code\":[\"MP\",\"PR\",\"ND\",\"SD\",\"VI\",\"WY\",\"VT\",\"MT\",\"DE\",\"AK\",\"GU\",\"MS\",\"WV\",\"ID\",\"ME\",\"NM\",\"NE\",\"NH\",\"AR\",\"IA\",\"KS\",\"HI\",\"RI\",\"OK\",\"NV\",\"AL\",\"LA\",\"KY\",\"SC\",\"CT\",\"MO\",\"CO\",\"AZ\",\"UT\",\"OR\",\"TN\",\"IN\",\"WI\",\"MD\",\"MN\",\"VA\",\"IL\",\"NY\",\"GA\",\"MA\",\"MI\",\"NC\",\"NJ\",\"WA\",\"OH\",\"FL\",\"PA\",\"TX\",\"CA\"],\"Total_Average_Loan_Amount\":{\"__ndarray__\":\"AAAAAAAd5UAAAAAAwFTsQB+F61Hs6PJArkfhelhS9UAAAAAAUEz3QAAAAAAwJPlA7FG4HmFD+UA9CtejDLn5QFK4HoX7dABB7FG4HlsqAkEAAAAAaEMGQa5H4Xr2bQdBAAAAAAi+CEGamZmZNUkJQRSuR+FaWAlBwvUoXLdjC0HD9Shc8eQLQcL1KFw/PQ5BSOF6FLEQEEEfhetRDdwSQRSuR+E0thNBrkfhem+WFEGQwvUoPlcVQWZmZmby+RVB7FG4HoasF0HrUbgeuo0aQeF6FK5i2BxBexSuR6tbHUEzMzMzaUggQR+F61HQZiBBmZmZGceBIUH2KFwP7PkhQRWuR+GvPCJBkML1KOZQIkG4HoVrQdYiQfYoXI9MiSRBwvUoXOn3JEEAAAAAUF8lQShcj0JNKyhBw/Uo3BUSKUFI4XqUXjQpQVS4HgX9tylB4noULhp5MEHC9SjcrLUwQSlcj8J1EzFBXI/CtTRDMUGamZnZk9ExQRSuR6EWtzJBkML1KE+jM0GjcD3K+6E1QfYoXE887TdBXI/CdS94OUFPuB5FM4xDQc7MzOzKZ0VB\",\"dtype\":\"float64\",\"order\":\"little\",\"shape\":[54]}},\"selected\":{\"id\":\"2797\"},\"selection_policy\":{\"id\":\"2812\"}},\"id\":\"2796\",\"type\":\"ColumnDataSource\"},{\"attributes\":{\"text\":\"Loan Averages by State\",\"text_color\":\"black\",\"text_font_size\":\"12pt\"},\"id\":\"2757\",\"type\":\"Title\"},{\"attributes\":{\"end\":3526420.084,\"reset_end\":3526420.084,\"reset_start\":0.0,\"tags\":[[[\"Total Average Loan Amount\",\"Total Average Loan Amount\",null]]]},\"id\":\"2752\",\"type\":\"Range1d\"},{\"attributes\":{\"overlay\":{\"id\":\"2777\"}},\"id\":\"2775\",\"type\":\"BoxZoomTool\"},{\"attributes\":{\"line_color\":\"#30a2da\",\"line_width\":2,\"x\":{\"field\":\"State Code\"},\"y\":{\"field\":\"2015 - 2016\"}},\"id\":\"2819\",\"type\":\"Line\"},{\"attributes\":{},\"id\":\"2776\",\"type\":\"ResetTool\"},{\"attributes\":{\"source\":{\"id\":\"2816\"}},\"id\":\"2823\",\"type\":\"CDSView\"},{\"attributes\":{\"line_alpha\":0.2,\"line_color\":\"#fc4f30\",\"line_width\":2,\"x\":{\"field\":\"State Code\"},\"y\":{\"field\":\"2010 - 2014\"}},\"id\":\"2842\",\"type\":\"Line\"},{\"attributes\":{\"label\":{\"value\":\"2019 Total Average Amount\"},\"renderers\":[{\"id\":\"2802\"}]},\"id\":\"2814\",\"type\":\"LegendItem\"}],\"root_ids\":[\"2749\"]},\"title\":\"Bokeh Application\",\"version\":\"2.3.2\"}};\n",
       "    var render_items = [{\"docid\":\"49a01a0a-8167-4936-a7a5-1d6aacb90781\",\"root_ids\":[\"2749\"],\"roots\":{\"2749\":\"f974c9e7-3140-4490-a3fc-9305ca8f7f0f\"}}];\n",
       "    root.Bokeh.embed.embed_items_notebook(docs_json, render_items);\n",
       "  }\n",
       "  if (root.Bokeh !== undefined && root.Bokeh.Panel !== undefined) {\n",
       "    embed_document(root);\n",
       "  } else {\n",
       "    var attempts = 0;\n",
       "    var timer = setInterval(function(root) {\n",
       "      if (root.Bokeh !== undefined && root.Bokeh.Panel !== undefined) {\n",
       "        clearInterval(timer);\n",
       "        embed_document(root);\n",
       "      } else if (document.readyState == \"complete\") {\n",
       "        attempts++;\n",
       "        if (attempts > 200) {\n",
       "          clearInterval(timer);\n",
       "          console.log(\"Bokeh: ERROR: Unable to run BokehJS code because BokehJS library is missing\");\n",
       "        }\n",
       "      }\n",
       "    }, 25, root)\n",
       "  }\n",
       "})(window);</script>"
      ],
      "text/plain": [
       ":Overlay\n",
       "   .Bars.A_2019_Total_Average_Amount :Bars   [State Code]   (Total Average Loan Amount)\n",
       "   .Curve.A_2015_hyphen_minus_2016   :Curve   [State Code]   (2015 - 2016)\n",
       "   .Curve.A_2010_hyphen_minus_2014   :Curve   [State Code]   (2010 - 2014)"
      ]
     },
     "execution_count": 14,
     "metadata": {
      "application/vnd.holoviews_exec.v0+json": {
       "id": "2749"
      }
     },
     "output_type": "execute_result"
    }
   ],
   "source": [
    "# Use opts function to customize title and width\n",
    "(plot_state_avgs * plot_2015_2016 * plot_2010_2014).opts(width=1000).opts(title='Loan Averages by State')"
   ]
  },
  {
   "cell_type": "code",
   "execution_count": null,
   "metadata": {},
   "outputs": [],
   "source": []
  }
 ],
 "metadata": {
  "kernel_info": {
   "name": "python3"
  },
  "kernelspec": {
   "display_name": "Python 3",
   "language": "python",
   "name": "python3"
  },
  "language_info": {
   "codemirror_mode": {
    "name": "ipython",
    "version": 3
   },
   "file_extension": ".py",
   "mimetype": "text/x-python",
   "name": "python",
   "nbconvert_exporter": "python",
   "pygments_lexer": "ipython3",
   "version": "3.7.10"
  },
  "nteract": {
   "version": "0.12.3"
  }
 },
 "nbformat": 4,
 "nbformat_minor": 4
}
