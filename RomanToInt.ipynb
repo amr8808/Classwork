{
 "cells": [
  {
   "cell_type": "markdown",
   "id": "7b0e420e-3298-45c1-bc10-399e0485f325",
   "metadata": {},
   "source": [
    "# Roman to Integer\n",
    "\n",
    "Roman numerals are represented by seven different symbols: I, V, X, L, C, D and M.\n",
    "\n",
    " Symbol       Value\n",
    " I             1\n",
    " V             5\n",
    " X             10\n",
    " L             50\n",
    " C             100\n",
    " D             500\n",
    " M             1000\n",
    "    For example, 2 is written as II in Roman numeral, just two one's added together. 12 is written as XII, which is simply X + II. The number 27 is written as XXVII, which is XX + V + II.\n",
    "\n",
    "-    Roman numerals are usually written largest to smallest from left to right. However, the numeral for four is not IIII. Instead, the number four is written as IV. Because the one is before the five we subtract it making four. The same principle applies to the number nine, which is written as IX. There are six instances where subtraction is used:\n",
    "\n",
    "- I can be placed before V (5) and X (10) to make 4 and 9. \n",
    "- X can be placed before L (50) and C (100) to make 40 and 90. \n",
    "- C can be placed before D (500) and M (1000) to make 400 and 900.\n",
    "- Given a roman numeral, convert it to an integer."
   ]
  },
  {
   "cell_type": "code",
   "execution_count": 1,
   "id": "dbdb90e0-a8b1-4969-a2b3-84bc535f44c7",
   "metadata": {},
   "outputs": [],
   "source": [
    "numerals={\"I\":1,\"V\":5,\"X\":10,\"L\":50,\"C\":100,\"D\":500,\"M\":1000,'IV':4,'IX':9,'XL':40,'XC':90,'CD':400,'CM':900}"
   ]
  },
  {
   "cell_type": "raw",
   "id": "764c9051-6120-4e47-8362-759a1239e5b4",
   "metadata": {},
   "source": [
    "#    def converter(s):\n",
    "        i = 0\n",
    "        num = 0\n",
    "        while i < len(s):\n",
    "            if i+1<len(s) and s[i:i+2] in numerals:\n",
    "                num+=numerals[s[i:i+2]]\n",
    "                i+=2\n",
    "            else:\n",
    "                #print(i)\n",
    "                num+=numerals[s[i]]\n",
    "                i+=1\n",
    "            return num\n",
    "            ob1 = Solution()\n",
    "    # print(ob1.romanToInt(\"III\"))\n",
    "    # print(ob1.romanToInt(\"CDXLIII\"))\n"
   ]
  },
  {
   "cell_type": "code",
   "execution_count": 3,
   "id": "4a979893-a585-4878-adb9-84ed4df055ef",
   "metadata": {},
   "outputs": [
    {
     "data": {
      "text/plain": [
       "5"
      ]
     },
     "execution_count": 3,
     "metadata": {},
     "output_type": "execute_result"
    }
   ],
   "source": [
    "converter(\"VI\")"
   ]
  },
  {
   "cell_type": "code",
   "execution_count": 14,
   "id": "96a672a0-a222-47a5-875b-62c1a0f184c7",
   "metadata": {},
   "outputs": [],
   "source": [
    "def roman_to_int(s):\n",
    "        numerals = {'I': 1, 'V': 5, 'X': 10, 'L': 50, 'C': 100, 'D': 500, 'M': 1000,'IV':4,'IX':9,'XL':40,'XC':90,'CD':400,'CM':900}\n",
    "        int_val = 0\n",
    "        for i in range(len(s)):\n",
    "            if i > 0 and numerals[s[i]] > numerals[s[i - 1]]:\n",
    "                int_val += numerals[s[i]] - 2 * numerals[s[i - 1]]\n",
    "            else:\n",
    "                int_val += numerals[s[i]]\n",
    "        return int_val"
   ]
  },
  {
   "cell_type": "code",
   "execution_count": 10,
   "id": "ba528aba-5400-42a5-8719-c008d38892a9",
   "metadata": {},
   "outputs": [
    {
     "data": {
      "text/plain": [
       "9"
      ]
     },
     "execution_count": 10,
     "metadata": {},
     "output_type": "execute_result"
    }
   ],
   "source": [
    "roman_to_int()"
   ]
  },
  {
   "cell_type": "code",
   "execution_count": 7,
   "id": "6170fda3-ffc1-4b81-a89a-81c80cf69aff",
   "metadata": {},
   "outputs": [
    {
     "data": {
      "text/plain": [
       "3986"
      ]
     },
     "execution_count": 7,
     "metadata": {},
     "output_type": "execute_result"
    }
   ],
   "source": [
    "roman_to_int(\"MMMCMLXXXVI\")"
   ]
  },
  {
   "cell_type": "code",
   "execution_count": null,
   "id": "798f2494-eb9c-44fd-84c6-0bc459007e90",
   "metadata": {},
   "outputs": [],
   "source": []
  }
 ],
 "metadata": {
  "kernelspec": {
   "display_name": "Python 3",
   "language": "python",
   "name": "python3"
  },
  "language_info": {
   "codemirror_mode": {
    "name": "ipython",
    "version": 3
   },
   "file_extension": ".py",
   "mimetype": "text/x-python",
   "name": "python",
   "nbconvert_exporter": "python",
   "pygments_lexer": "ipython3",
   "version": "3.7.10"
  }
 },
 "nbformat": 4,
 "nbformat_minor": 5
}
